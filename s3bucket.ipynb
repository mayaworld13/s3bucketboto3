{
 "cells": [
  {
   "cell_type": "code",
   "execution_count": 1,
   "id": "036ab6a7",
   "metadata": {},
   "outputs": [
    {
     "name": "stdout",
     "output_type": "stream",
     "text": [
      "your-bucket-namemayank12344563\n",
      "S3 bucket 'mayank12344563' created successfully in region 'us-east-1'.\n"
     ]
    }
   ],
   "source": [
    "import boto3\n",
    "def create_s3_bucket(bucket_name, region='us-east-1'):\n",
    "    try:\n",
    "        s3 = boto3.client('s3', region_name=region)\n",
    "        s3.create_bucket(Bucket=bucket_name)\n",
    "        print(f\"S3 bucket '{bucket_name}' created successfully in region '{region}'.\")\n",
    "        return bucket_name\n",
    "    except Exception as e:\n",
    "        print(f\"An error occurred while creating the S3 bucket: {e}\")\n",
    "        return None\n",
    "bucket_name = input(\"your-bucket-name\")\n",
    "region = 'us-east-1'\n",
    "created_bucket = create_s3_bucket(bucket_name, region)"
   ]
  },
  {
   "cell_type": "code",
   "execution_count": 2,
   "id": "73057116",
   "metadata": {},
   "outputs": [
    {
     "name": "stdout",
     "output_type": "stream",
     "text": [
      "Existing buckets:\n",
      "  audiofilebymayank\n",
      "  chandan12345fjajfa\n",
      "  mayank12344563\n",
      "  mayankafjflj\n",
      "  mayankfdkf\n",
      "  mayankfdkf345\n",
      "  mayas3forimage\n",
      "  mayaspeechtotext\n",
      "  mayaworldtestaudio\n",
      "  powerpoint12335\n",
      "  powerpointaccess242321\n",
      "  s3fajfdl525\n",
      "  s3upload542453\n",
      "  sgfalkfdjf\n",
      "  sknnnhhhghhh\n",
      "  test-ashu123\n"
     ]
    }
   ],
   "source": [
    "# Retrieve the list of existing buckets\n",
    "s3 = boto3.client('s3')\n",
    "response = s3.list_buckets()\n",
    "\n",
    "# Output the bucket names\n",
    "print('Existing buckets:')\n",
    "for bucket in response['Buckets']:\n",
    "    print(f'  {bucket[\"Name\"]}')"
   ]
  },
  {
   "cell_type": "code",
   "execution_count": 4,
   "id": "06818481",
   "metadata": {},
   "outputs": [
    {
     "name": "stdout",
     "output_type": "stream",
     "text": [
      "your-bucket-name:chandan12345fjajfa\n",
      "Path of local file:C:\\Users\\mayan\\Downloads\\woman.jpeg\n",
      "File name:ramram\n",
      "File 'C:\\Users\\mayan\\Downloads\\woman.jpeg' uploaded to S3 bucket 'chandan12345fjajfa' with key 'ramram'.\n"
     ]
    },
    {
     "data": {
      "text/plain": [
       "True"
      ]
     },
     "execution_count": 4,
     "metadata": {},
     "output_type": "execute_result"
    }
   ],
   "source": [
    "#for uploading the file\n",
    "import boto3\n",
    "def upload_file_to_s3(file_path, bucket_name, s3_key):\n",
    "    try:\n",
    "        s3 = boto3.client('s3')\n",
    "        s3.upload_file(file_path, bucket_name, s3_key)\n",
    "        print(f\"File '{file_path}' uploaded to S3 bucket '{bucket_name}' with key '{s3_key}'.\")\n",
    "        return True\n",
    "    except Exception as e:\n",
    "        print(f\"An error occurred while uploading the file: {e}\")\n",
    "        return False\n",
    "bucket_name = input('your-bucket-name:')\n",
    "local_file_path = input('Path of local file:')\n",
    "s3_file_key = input('File name:')\n",
    "upload_file_to_s3(local_file_path, bucket_name, s3_file_key)"
   ]
  },
  {
   "cell_type": "code",
   "execution_count": 5,
   "id": "e2b3a5c5",
   "metadata": {},
   "outputs": [
    {
     "name": "stdout",
     "output_type": "stream",
     "text": [
      "your-bucket-namemayank12344563\n",
      "S3 bucket 'mayank12344563' deleted successfully.\n"
     ]
    },
    {
     "data": {
      "text/plain": [
       "True"
      ]
     },
     "execution_count": 5,
     "metadata": {},
     "output_type": "execute_result"
    }
   ],
   "source": [
    "import boto3\n",
    "def delete_s3_bucket(bucket_name):\n",
    "    try:\n",
    "        s3 = boto3.client('s3')\n",
    "        s3.delete_bucket(Bucket=bucket_name)\n",
    "        print(f\"S3 bucket '{bucket_name}' deleted successfully.\")\n",
    "        return True\n",
    "    except Exception as e:\n",
    "        print(f\"An error occurred while deleting the S3 bucket: {e}\")\n",
    "        return False\n",
    "bucket_name = input('your-bucket-name')\n",
    "delete_s3_bucket(bucket_name)"
   ]
  },
  {
   "cell_type": "code",
   "execution_count": null,
   "id": "7747dc80",
   "metadata": {},
   "outputs": [],
   "source": []
  }
 ],
 "metadata": {
  "kernelspec": {
   "display_name": "Python 3",
   "language": "python",
   "name": "python3"
  },
  "language_info": {
   "codemirror_mode": {
    "name": "ipython",
    "version": 3
   },
   "file_extension": ".py",
   "mimetype": "text/x-python",
   "name": "python",
   "nbconvert_exporter": "python",
   "pygments_lexer": "ipython3",
   "version": "3.10.9"
  }
 },
 "nbformat": 4,
 "nbformat_minor": 5
}
